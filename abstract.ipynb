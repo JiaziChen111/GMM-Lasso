{
 "cells": [
  {
   "cell_type": "markdown",
   "metadata": {},
   "source": [
    "## Estimation of Sparse Structural Parameters with Many Endogenous Variables\n",
    "\n",
    "Zhentao Shi\n",
    "\n",
    "We apply GMM-Lasso (Caner, 2009) to a linear structural model with many endogenous regressors.\n",
    "If the true parameter is sufficiently sparse, we can establish a new oracle inequality, which\n",
    "implies that GMM-Lasso performs almost as well as if we knew a priori the identities of\n",
    "the relevant variables. Sparsity, meaning that most of the true coefficients are too small to\n",
    "matter, naturally arises in econometric applications where the model can be derived from\n",
    "economic theory. In addition, we propose to use a modified version of AIC or BIC to select\n",
    "the tuning parameter in practical implementation. Simulations provide supportive evidence\n",
    "concerning the finite sample properties of the GMM-Lasso."
   ]
  }
 ],
 "metadata": {
  "anaconda-cloud": {},
  "kernelspec": {
   "display_name": "R",
   "language": "R",
   "name": "ir"
  },
  "language_info": {
   "codemirror_mode": "r",
   "file_extension": ".r",
   "mimetype": "text/x-r-source",
   "name": "R",
   "pygments_lexer": "r",
   "version": "3.3.0"
  }
 },
 "nbformat": 4,
 "nbformat_minor": 0
}
